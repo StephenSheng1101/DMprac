{
  "nbformat": 4,
  "nbformat_minor": 0,
  "metadata": {
    "colab": {
      "provenance": [],
      "authorship_tag": "ABX9TyMTVjFv5DowZvszlSyfuWtq",
      "include_colab_link": true
    },
    "kernelspec": {
      "name": "python3",
      "display_name": "Python 3"
    },
    "language_info": {
      "name": "python"
    }
  },
  "cells": [
    {
      "cell_type": "markdown",
      "metadata": {
        "id": "view-in-github",
        "colab_type": "text"
      },
      "source": [
        "<a href=\"https://colab.research.google.com/github/StephenSheng1101/DMprac/blob/main/MockPracticalTest.ipynb\" target=\"_parent\"><img src=\"https://colab.research.google.com/assets/colab-badge.svg\" alt=\"Open In Colab\"/></a>"
      ]
    },
    {
      "cell_type": "code",
      "execution_count": 1,
      "metadata": {
        "id": "GdZlAOm1pGVR"
      },
      "outputs": [],
      "source": [
        "from pathlib import Path\n",
        "import pandas as pd\n",
        "import tarfile\n",
        "import urllib.request"
      ]
    },
    {
      "cell_type": "code",
      "source": [
        "#1.    Load the data\n",
        "df = pd.read_csv('heart.csv')\n",
        "\n",
        "#2.    Take a quick look at the data such as using head, describe, info\n",
        "print(df.head())\n",
        "print(df.info())\n",
        "print(len(df))\n",
        "print(df.describe())"
      ],
      "metadata": {
        "colab": {
          "base_uri": "https://localhost:8080/"
        },
        "id": "kjCObxLjpkLJ",
        "outputId": "4b5170e0-efab-4286-fc6c-57f8c1b82307"
      },
      "execution_count": 6,
      "outputs": [
        {
          "output_type": "stream",
          "name": "stdout",
          "text": [
            "   age     sex                cp  trtbps  chol    fbs  restecg  thalachh exng  \\\n",
            "0   63    male      asymptomatic     145   233   True        0       150   no   \n",
            "1   37    male  non-anginal pain     130   250  False        1       187   no   \n",
            "2   41  female   atypical angina     130   204  False        0       172   no   \n",
            "3   56    male   atypical angina     120   236  False        1       178   no   \n",
            "4   57  female    typical angina     120   354  False        1       163  yes   \n",
            "\n",
            "   oldpeak          slp  ca output  \n",
            "0      2.3  downsloping   0   high  \n",
            "1      3.5  downsloping   0   high  \n",
            "2      1.4    upsloping   0   high  \n",
            "3      0.8    upsloping   0   high  \n",
            "4      0.6    upsloping   0   high  \n",
            "<class 'pandas.core.frame.DataFrame'>\n",
            "RangeIndex: 303 entries, 0 to 302\n",
            "Data columns (total 13 columns):\n",
            " #   Column    Non-Null Count  Dtype  \n",
            "---  ------    --------------  -----  \n",
            " 0   age       303 non-null    int64  \n",
            " 1   sex       303 non-null    object \n",
            " 2   cp        303 non-null    object \n",
            " 3   trtbps    303 non-null    int64  \n",
            " 4   chol      303 non-null    int64  \n",
            " 5   fbs       303 non-null    bool   \n",
            " 6   restecg   303 non-null    int64  \n",
            " 7   thalachh  303 non-null    int64  \n",
            " 8   exng      303 non-null    object \n",
            " 9   oldpeak   303 non-null    float64\n",
            " 10  slp       303 non-null    object \n",
            " 11  ca        303 non-null    int64  \n",
            " 12  output    303 non-null    object \n",
            "dtypes: bool(1), float64(1), int64(6), object(5)\n",
            "memory usage: 28.8+ KB\n",
            "None\n",
            "303\n",
            "              age      trtbps        chol     restecg    thalachh     oldpeak  \\\n",
            "count  303.000000  303.000000  303.000000  303.000000  303.000000  303.000000   \n",
            "mean    54.366337  131.623762  246.264026    0.528053  149.646865    1.039604   \n",
            "std      9.082101   17.538143   51.830751    0.525860   22.905161    1.161075   \n",
            "min     29.000000   94.000000  126.000000    0.000000   71.000000    0.000000   \n",
            "25%     47.500000  120.000000  211.000000    0.000000  133.500000    0.000000   \n",
            "50%     55.000000  130.000000  240.000000    1.000000  153.000000    0.800000   \n",
            "75%     61.000000  140.000000  274.500000    1.000000  166.000000    1.600000   \n",
            "max     77.000000  200.000000  564.000000    2.000000  202.000000    6.200000   \n",
            "\n",
            "               ca  \n",
            "count  303.000000  \n",
            "mean     0.729373  \n",
            "std      1.022606  \n",
            "min      0.000000  \n",
            "25%      0.000000  \n",
            "50%      0.000000  \n",
            "75%      1.000000  \n",
            "max      4.000000  \n"
          ]
        }
      ]
    },
    {
      "cell_type": "code",
      "source": [
        "#3.    Split your data into training and test set (no data snooping!)\n",
        "\n",
        "from sklearn.model_selection import train_test_split\n",
        "\n",
        "\n",
        "train_set, test_set = train_test_split(df, test_size=0.2, random_state=42)\n",
        "\n",
        "print(\"Length of train_set:\", len(train_set))\n",
        "print(\"Length of test_set:\", len(test_set))"
      ],
      "metadata": {
        "colab": {
          "base_uri": "https://localhost:8080/"
        },
        "id": "py3eYF1Lp6_z",
        "outputId": "819211a5-505e-4e91-dcfe-46b21a11b380"
      },
      "execution_count": 3,
      "outputs": [
        {
          "output_type": "stream",
          "name": "stdout",
          "text": [
            "Length of train_set: 242\n",
            "Length of test_set: 61\n"
          ]
        }
      ]
    },
    {
      "cell_type": "code",
      "source": [
        "#Explore data and visualize the data to gain insights\n",
        "# 4a Identify % missing values\n",
        "missing_percentage = (train_set.isnull().sum() / len(train_set)) * 100\n",
        "missing_percentage"
      ],
      "metadata": {
        "colab": {
          "base_uri": "https://localhost:8080/"
        },
        "id": "57lT6j3FyNT9",
        "outputId": "04153cfa-cd2a-411c-e711-8f2ae13b498b"
      },
      "execution_count": 15,
      "outputs": [
        {
          "output_type": "execute_result",
          "data": {
            "text/plain": [
              "age         0.0\n",
              "sex         0.0\n",
              "cp          0.0\n",
              "trtbps      0.0\n",
              "chol        0.0\n",
              "fbs         0.0\n",
              "restecg     0.0\n",
              "thalachh    0.0\n",
              "exng        0.0\n",
              "oldpeak     0.0\n",
              "slp         0.0\n",
              "ca          0.0\n",
              "output      0.0\n",
              "dtype: float64"
            ]
          },
          "metadata": {},
          "execution_count": 15
        }
      ]
    },
    {
      "cell_type": "code",
      "source": [
        "#4b. study correlation\n",
        "corr_matrix = train_set.corr(numeric_only=True)\n",
        "corr_matrix[\"restecg\"].sort_values(ascending=False)"
      ],
      "metadata": {
        "colab": {
          "base_uri": "https://localhost:8080/"
        },
        "id": "v52UKND5rhwY",
        "outputId": "26997786-4649-4f2a-fcad-d48af664cd72"
      },
      "execution_count": 7,
      "outputs": [
        {
          "output_type": "execute_result",
          "data": {
            "text/plain": [
              "restecg     1.000000\n",
              "thalachh    0.016973\n",
              "oldpeak     0.009423\n",
              "ca         -0.042357\n",
              "trtbps     -0.067485\n",
              "fbs        -0.073940\n",
              "age        -0.127500\n",
              "chol       -0.130684\n",
              "Name: restecg, dtype: float64"
            ]
          },
          "metadata": {},
          "execution_count": 7
        }
      ]
    },
    {
      "cell_type": "code",
      "source": [
        "#4c. visualize data\n",
        "from pandas.plotting import scatter_matrix\n",
        "import matplotlib.pyplot as plt\n",
        "plt.rc('font', size=14)\n",
        "plt.rc('axes', labelsize=14, titlesize=14)\n",
        "plt.rc('legend', fontsize=14)\n",
        "plt.rc('xtick', labelsize=10)\n",
        "plt.rc('ytick', labelsize=10)\n",
        "\n",
        "df.hist(bins=50, figsize=(12, 8))\n",
        "plt.show()"
      ],
      "metadata": {
        "colab": {
          "base_uri": "https://localhost:8080/",
          "height": 700
        },
        "id": "H04r3T2NsoqX",
        "outputId": "49d130dd-4c2a-4865-e5d3-cb3d618bea36"
      },
      "execution_count": 10,
      "outputs": [
        {
          "output_type": "display_data",
          "data": {
            "text/plain": [
              "<Figure size 1200x800 with 9 Axes>"
            ],
            "image/png": "[encoded data removed]"
          },
          "metadata": {}
        }
      ]
    },
    {
      "cell_type": "code",
      "source": [
        "# Exploring categorical variables\n",
        "categorical_columns = ['sex','cp','fbs','exng','slp','output']\n",
        "for column in categorical_columns:\n",
        "    print(\"\\nUnique values in\", column)\n",
        "    print(train_set[column].unique())\n",
        "    print(\"Value counts:\")\n",
        "    print(train_set[column].value_counts())\n",
        "\n",
        "# Analyzing numerical variables\n",
        "numerical_columns = [\n",
        "    'age',  'trtbps',\n",
        "    'chol',  'restecg', 'thalachh',\n",
        "    'oldpeak','ca'\n",
        "]\n",
        "\n",
        "for column in numerical_columns:\n",
        "    print(\"\\nStatistics for\", column)\n",
        "    print(\"Minimum:\", train_set[column].min())\n",
        "    print(\"Maximum:\", train_set[column].max())\n",
        "    print(\"Mean:\", train_set[column].mean())\n",
        "    print(\"Standard deviation:\", train_set[column].std())"
      ],
      "metadata": {
        "colab": {
          "base_uri": "https://localhost:8080/"
        },
        "id": "1QMsjGp1tghO",
        "outputId": "b5cf2ea7-d126-4134-f6bc-3c7d4d5beae8"
      },
      "execution_count": 12,
      "outputs": [
        {
          "output_type": "stream",
          "name": "stdout",
          "text": [
            "\n",
            "Unique values in sex\n",
            "['male' 'female']\n",
            "Value counts:\n",
            "male      159\n",
            "female     83\n",
            "Name: sex, dtype: int64\n",
            "\n",
            "Unique values in cp\n",
            "['atypical angina' 'typical angina' 'non-anginal pain' 'asymptomatic']\n",
            "Value counts:\n",
            "typical angina      110\n",
            "non-anginal pain     74\n",
            "atypical angina      41\n",
            "asymptomatic         17\n",
            "Name: cp, dtype: int64\n",
            "\n",
            "Unique values in fbs\n",
            "[False  True]\n",
            "Value counts:\n",
            "False    211\n",
            "True      31\n",
            "Name: fbs, dtype: int64\n",
            "\n",
            "Unique values in exng\n",
            "['no' 'yes']\n",
            "Value counts:\n",
            "no     166\n",
            "yes     76\n",
            "Name: exng, dtype: int64\n",
            "\n",
            "Unique values in slp\n",
            "['upsloping' 'flat' 'downsloping']\n",
            "Value counts:\n",
            "upsloping      117\n",
            "flat           110\n",
            "downsloping     15\n",
            "Name: slp, dtype: int64\n",
            "\n",
            "Unique values in output\n",
            "['high' 'low']\n",
            "Value counts:\n",
            "high    133\n",
            "low     109\n",
            "Name: output, dtype: int64\n",
            "\n",
            "Statistics for age\n",
            "Minimum: 29\n",
            "Maximum: 77\n",
            "Mean: 54.46280991735537\n",
            "Standard deviation: 9.204492248287295\n",
            "\n",
            "Statistics for trtbps\n",
            "Minimum: 94\n",
            "Maximum: 192\n",
            "Mean: 130.3595041322314\n",
            "Standard deviation: 16.82885823407632\n",
            "\n",
            "Statistics for chol\n",
            "Minimum: 131\n",
            "Maximum: 564\n",
            "Mean: 246.84297520661158\n",
            "Standard deviation: 52.79546508006279\n",
            "\n",
            "Statistics for restecg\n",
            "Minimum: 0\n",
            "Maximum: 2\n",
            "Mean: 0.5537190082644629\n",
            "Standard deviation: 0.5304098974427575\n",
            "\n",
            "Statistics for thalachh\n",
            "Minimum: 88\n",
            "Maximum: 202\n",
            "Mean: 150.11570247933884\n",
            "Standard deviation: 22.352398325800827\n",
            "\n",
            "Statistics for oldpeak\n",
            "Minimum: 0.0\n",
            "Maximum: 5.6\n",
            "Mean: 1.0132231404958678\n",
            "Standard deviation: 1.1025765485613228\n",
            "\n",
            "Statistics for ca\n",
            "Minimum: 0\n",
            "Maximum: 4\n",
            "Mean: 0.6818181818181818\n",
            "Standard deviation: 0.9906199073458375\n"
          ]
        }
      ]
    },
    {
      "cell_type": "code",
      "source": [
        "from sklearn.preprocessing import MinMaxScaler\n",
        "min_max_scaler = MinMaxScaler(feature_range=(-1, 1))\n",
        "housing_num_min_max_scaled = min_max_scaler.fit_transform(housing_num)\n",
        "housing_num_min_max_scaled"
      ],
      "metadata": {
        "id": "GtLVwsuOvvef"
      },
      "execution_count": null,
      "outputs": []
    }
  ]
}